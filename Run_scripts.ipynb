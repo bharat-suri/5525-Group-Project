{
 "cells": [
  {
   "cell_type": "code",
   "execution_count": 1,
   "metadata": {},
   "outputs": [],
   "source": [
    "import os\n",
    "for i in range(4):\n",
    "    os.system(\"python train_finegraiend_multilabel.py --device 0 --batch-size 16 --lr 5e-5 --epochs 10\")"
   ]
  },
  {
   "cell_type": "code",
   "execution_count": null,
   "metadata": {},
   "outputs": [],
   "source": [
    "import os\n",
    "os.system(\"python train_finegraiend_multilabel.py --device 0 --batch-size 16 --lr 5e-5 --epochs 10 --pretrained-ckpt ckpt/model_bert_trainedOn_propoganda_seed169_multilabel_BCE.pt\")\n",
    "os.system(\"python train_finegraiend_multilabel.py --device 0 --batch-size 16 --lr 5e-5 --epochs 10 --pretrained-ckpt ckpt/model_bert_trainedOn_propoganda_seed393_multilabel_BCE.pt\")\n",
    "os.system(\"python train_finegraiend_multilabel.py --device 0 --batch-size 16 --lr 5e-5 --epochs 10 --pretrained-ckpt ckpt/model_bert_trainedOn_propoganda_seed415_multilabel_BCE.pt\")\n",
    "os.system(\"python train_finegraiend_multilabel.py --device 0 --batch-size 16 --lr 5e-5 --epochs 10 --pretrained-ckpt ckpt/model_bert_trainedOn_propoganda_seed673_multilabel_BCE.pt\")\n",
    "os.system(\"python train_finegraiend_multilabel.py --device 0 --batch-size 16 --lr 5e-5 --epochs 10 --pretrained-ckpt ckpt/model_bert_trainedOn_propoganda_seed856_multilabel_BCE.pt\")  "
   ]
  },
  {
   "cell_type": "code",
   "execution_count": 1,
   "metadata": {},
   "outputs": [
    {
     "data": {
      "text/plain": [
       "0"
      ]
     },
     "execution_count": 1,
     "metadata": {},
     "output_type": "execute_result"
    }
   ],
   "source": [
    "import os\n",
    "os.system(\"python train_finegraiend_multilabel.py --device 0 --batch-size 16 --lr 5e-5 --epochs 10 --pretrained-ckpt ckpt/model_bert_trainedOn_propoganda_seed673_multilabel_BCE.pt\")\n"
   ]
  },
  {
   "cell_type": "code",
   "execution_count": 2,
   "metadata": {},
   "outputs": [
    {
     "data": {
      "text/plain": [
       "0"
      ]
     },
     "execution_count": 2,
     "metadata": {},
     "output_type": "execute_result"
    }
   ],
   "source": [
    "os.system(\"python eval_finegrained_multilabel.py --device 0\")"
   ]
  },
  {
   "cell_type": "code",
   "execution_count": null,
   "metadata": {},
   "outputs": [],
   "source": []
  }
 ],
 "metadata": {
  "kernelspec": {
   "display_name": "Python 3",
   "language": "python",
   "name": "python3"
  },
  "language_info": {
   "codemirror_mode": {
    "name": "ipython",
    "version": 3
   },
   "file_extension": ".py",
   "mimetype": "text/x-python",
   "name": "python",
   "nbconvert_exporter": "python",
   "pygments_lexer": "ipython3",
   "version": "3.6.8"
  }
 },
 "nbformat": 4,
 "nbformat_minor": 2
}
